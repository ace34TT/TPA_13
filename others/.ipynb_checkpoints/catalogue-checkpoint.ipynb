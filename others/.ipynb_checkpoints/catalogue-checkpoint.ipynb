{
 "cells": [
  {
   "cell_type": "code",
   "execution_count": 2,
   "id": "df4ed6e6-6f79-4be3-838a-1277908137e3",
   "metadata": {},
   "outputs": [],
   "source": [
    "from pyspark.sql import SparkSession\n",
    "from pyspark.sql.functions import col , regexp_replace , split ,initcap , upper , avg , trim , lit , coalesce , round , monotonically_increasing_id\n",
    "from pyspark.sql.types import StructType, StructField, StringType, IntegerType , DoubleType"
   ]
  },
  {
   "cell_type": "markdown",
   "id": "2b7a794f-2717-476d-9f01-e9b236482d26",
   "metadata": {},
   "source": [
    "## 1 - Creating spark session "
   ]
  },
  {
   "cell_type": "code",
   "execution_count": 4,
   "id": "af353403-368f-45fc-8f07-a51740f837da",
   "metadata": {},
   "outputs": [],
   "source": [
    "spark = SparkSession.builder.appName(\"Catalogue_CO2\").getOrCreate()"
   ]
  },
  {
   "cell_type": "markdown",
   "id": "aee557e4-635f-4b93-80f2-ab00fe7ad926",
   "metadata": {},
   "source": [
    "## 2 - Importing data from hdfs "
   ]
  },
  {
   "cell_type": "code",
   "execution_count": 7,
   "id": "f5d69306-c081-4e1b-a913-203764563eb6",
   "metadata": {},
   "outputs": [],
   "source": [
    "schema = StructType([\n",
    "    StructField(\"NoLigne\", IntegerType(), True),\n",
    "    StructField(\"Marque / Modele\", StringType(), True),\n",
    "    StructField(\"Bonus / Malus\", StringType(), True),\n",
    "    StructField(\"Rejets CO2 g/km\", IntegerType(), True),\n",
    "    StructField(\"Cout energie\", StringType(), True)\n",
    "])\n",
    "co2_df = spark.read.csv(\"tpa_13/CO2.csv\", header=True, schema= schema)"
   ]
  },
  {
   "cell_type": "code",
   "execution_count": 10,
   "id": "0ec6a85d-21cd-4bba-a53c-0a4afd1c155a",
   "metadata": {},
   "outputs": [
    {
     "name": "stderr",
     "output_type": "stream",
     "text": [
      "                                                                                \r"
     ]
    }
   ],
   "source": [
    "catalog_df = spark.read.csv(\"tpa_13/Catalogue.csv\", header=True, inferSchema=True)"
   ]
  },
  {
   "cell_type": "markdown",
   "id": "4c03e14f-6cd3-4de8-a6da-461194a7b956",
   "metadata": {},
   "source": [
    "## 3 - Processing CO2"
   ]
  },
  {
   "cell_type": "code",
   "execution_count": 11,
   "id": "a4652b56-47f7-4f22-9bfb-17ea35fd4fb3",
   "metadata": {},
   "outputs": [],
   "source": [
    "# fix Bonus / Malus data by removing everything after the euro sign \n",
    "co2_df = co2_df.withColumn(\"Bonus / Malus\", regexp_replace(\"Bonus / Malus\", r'€.*', '€'))\n",
    "# remove all data that have invalide values \n",
    "co2_df = co2_df.filter(col(\"Bonus / Malus\") != \"-\")"
   ]
  },
  {
   "cell_type": "code",
   "execution_count": 12,
   "id": "15da13ba-8554-4d1e-9cc2-a5ab6e548198",
   "metadata": {},
   "outputs": [],
   "source": [
    "# add create Marque colunm from Marque / Model by taking the first word \n",
    "co2_df = co2_df.withColumn(\"Marque\", split(co2_df[\"Marque / Modele\"], \" \")[0])\n",
    "# create Model colunm from Marque / Model col by taking the \n",
    "co2_df = co2_df.withColumn(\"Model\", split(co2_df[\"Marque / Modele\"], \" \")[1])\n",
    "# delete the marque / model col as it \n",
    "co2_df = co2_df.drop(\"Marque / Modele\")"
   ]
  },
  {
   "cell_type": "code",
   "execution_count": 13,
   "id": "b0baf441-9e42-45fe-a322-de978fd92542",
   "metadata": {},
   "outputs": [],
   "source": [
    "# we take all the marques catalogue\n",
    "marques_catalogue = catalog_df.select(\"marque\").distinct().withColumnRenamed(\"marque\", \"Marque\")\n",
    "# we capitalise them in order to be able to compared it with data from co2\n",
    "marques_catalogue = marques_catalogue.withColumn(\"Marque\", upper(col(\"Marque\")))"
   ]
  },
  {
   "cell_type": "code",
   "execution_count": 15,
   "id": "d9a8b6d4-911d-43cb-bb3c-cecd2670cc01",
   "metadata": {},
   "outputs": [
    {
     "name": "stdout",
     "output_type": "stream",
     "text": [
      "+--------+-------+-------------+---------------+------------+--------+\n",
      "|  Marque|NoLigne|Bonus / Malus|Rejets CO2 g/km|Cout energie|   Model|\n",
      "+--------+-------+-------------+---------------+------------+--------+\n",
      "|    AUDI|      2|      -6 000€|              0|       319 €|  E-TRON|\n",
      "|    AUDI|      3|      -6 000€|              0|       356 €|  E-TRON|\n",
      "|    AUDI|      4|      -6 000€|              0|       357 €|  E-TRON|\n",
      "|    AUDI|      5|      -6 000€|              0|       356 €|  E-TRON|\n",
      "|     BMW|      6|      -6 000€|              0|       204 €|      i3|\n",
      "|     BMW|      7|      -6 000€|              0|       204 €|     i3s|\n",
      "|  JAGUAR|     13|      -6 000€|              0|       271 €|  I-PACE|\n",
      "|     KIA|     14|      -6 000€|              0|       212 €|  e-NIRO|\n",
      "|     KIA|     15|      -6 000€|              0|       203 €|  e-NIRO|\n",
      "|     KIA|     16|      -6 000€|              0|       214 €|    SOUL|\n",
      "|     KIA|     17|      -6 000€|              0|       214 €|    SOUL|\n",
      "|MERCEDES|     18|      -6 000€|              0|       291 €|     EQC|\n",
      "|MERCEDES|     19|      -6 000€|              0|       411 €|    VITO|\n",
      "|MERCEDES|     20|      -6 000€|              0|       411 €|    VITO|\n",
      "|    MINI|     21|      -6 000€|              0|       199 €|    MINI|\n",
      "|  NISSAN|     23|      -6 000€|              0|       155 €|Nouvelle|\n",
      "|  NISSAN|     24|      -6 000€|              0|       177 €|Nouvelle|\n",
      "| PEUGEOT|     25|      -6 000€|              0|       221 €|     208|\n",
      "| PEUGEOT|     26|      -6 000€|              0|       241 €|     ION|\n",
      "| PEUGEOT|     27|      -6 000€|              0|       203 €| PARTNER|\n",
      "+--------+-------+-------------+---------------+------------+--------+\n",
      "only showing top 20 rows\n",
      "\n"
     ]
    },
    {
     "name": "stderr",
     "output_type": "stream",
     "text": [
      "24/05/28 10:08:27 WARN CSVHeaderChecker: CSV header does not conform to the schema.\n",
      " Header: , Marque / Modele, Bonus / Malus, Rejets CO2 g/km, Cout enerie\n",
      " Schema: NoLigne, Marque / Modele, Bonus / Malus, Rejets CO2 g/km, Cout energie\n",
      "Expected: NoLigne but found: \n",
      "CSV file: hdfs://localhost:9000/user/vagrant/tpa_13/CO2.csv\n"
     ]
    }
   ],
   "source": [
    "# We filter CO2 to only have data having marques in Catalogues \n",
    "co2_df = co2_df.alias(\"co2\").join(marques_catalogue.alias(\"marques\"), \"Marque\")\n",
    "co2_df.show()"
   ]
  },
  {
   "cell_type": "code",
   "execution_count": 10,
   "id": "7c3c6d6e-b82a-43bb-8c9b-c6b0e8b00845",
   "metadata": {},
   "outputs": [
    {
     "name": "stdout",
     "output_type": "stream",
     "text": [
      "+--------+-------+-------------+---------------+------------+--------+\n",
      "|  Marque|NoLigne|Bonus / Malus|Rejets CO2 g/km|Cout energie|   Model|\n",
      "+--------+-------+-------------+---------------+------------+--------+\n",
      "|    AUDI|      2|      -6000.0|              0|       319.0|  E-TRON|\n",
      "|    AUDI|      3|      -6000.0|              0|       356.0|  E-TRON|\n",
      "|    AUDI|      4|      -6000.0|              0|       357.0|  E-TRON|\n",
      "|    AUDI|      5|      -6000.0|              0|       356.0|  E-TRON|\n",
      "|     BMW|      6|      -6000.0|              0|       204.0|      i3|\n",
      "|     BMW|      7|      -6000.0|              0|       204.0|     i3s|\n",
      "|  JAGUAR|     13|      -6000.0|              0|       271.0|  I-PACE|\n",
      "|     KIA|     14|      -6000.0|              0|       212.0|  e-NIRO|\n",
      "|     KIA|     15|      -6000.0|              0|       203.0|  e-NIRO|\n",
      "|     KIA|     16|      -6000.0|              0|       214.0|    SOUL|\n",
      "|     KIA|     17|      -6000.0|              0|       214.0|    SOUL|\n",
      "|MERCEDES|     18|      -6000.0|              0|       291.0|     EQC|\n",
      "|MERCEDES|     19|      -6000.0|              0|       411.0|    VITO|\n",
      "|MERCEDES|     20|      -6000.0|              0|       411.0|    VITO|\n",
      "|    MINI|     21|      -6000.0|              0|       199.0|    MINI|\n",
      "|  NISSAN|     23|      -6000.0|              0|       155.0|Nouvelle|\n",
      "|  NISSAN|     24|      -6000.0|              0|       177.0|Nouvelle|\n",
      "| PEUGEOT|     25|      -6000.0|              0|       221.0|     208|\n",
      "| PEUGEOT|     26|      -6000.0|              0|       241.0|     ION|\n",
      "| PEUGEOT|     27|      -6000.0|              0|       203.0| PARTNER|\n",
      "+--------+-------+-------------+---------------+------------+--------+\n",
      "only showing top 20 rows\n",
      "\n"
     ]
    },
    {
     "name": "stderr",
     "output_type": "stream",
     "text": [
      "24/05/01 21:32:41 WARN CSVHeaderChecker: CSV header does not conform to the schema.\n",
      " Header: NoLigne, Marque / Modele, Bonus / Malus, Rejets CO2 g/km, Cout enerie\n",
      " Schema: NoLigne, Marque / Modele, Bonus / Malus, Rejets CO2 g/km, Cout energie\n",
      "Expected: Cout energie but found: Cout enerie\n",
      "CSV file: hdfs://localhost:9000/user/vagrant/concessionnaire_automobile/CO2\n"
     ]
    }
   ],
   "source": [
    "# we process Bonus / Malus and Cout energie to be able to perform operations as number\n",
    "# remove euro , + , white spaces \n",
    "processed_co2 = co2_df.withColumn('Bonus / Malus', regexp_replace(col('Bonus / Malus'), '€', '')) \\\n",
    "    .withColumn('Cout energie', regexp_replace(col('Cout energie'), '€', '')) \\\n",
    "    .withColumn('Bonus / Malus', regexp_replace(col('Bonus / Malus'), '\\\\+', '')) \\\n",
    "    .withColumn('Cout energie', regexp_replace(col('Cout energie'), '\\u00A0', '')) \\\n",
    "    .withColumn('Bonus / Malus', regexp_replace(col('Bonus / Malus'), '\\u00A0', ''))\n",
    "# we convert Bonus / Malus , Cout energie to float \n",
    "processed_co2 = processed_co2.withColumn('Bonus / Malus', processed_co2['Bonus / Malus'].cast('float')) \\\n",
    "    .withColumn('Cout energie', processed_co2['Cout energie'].cast('float'))\n",
    "processed_co2.show()"
   ]
  },
  {
   "cell_type": "code",
   "execution_count": 16,
   "id": "b1428664-1ce7-415f-b5f1-4d8f66e71717",
   "metadata": {},
   "outputs": [
    {
     "name": "stdout",
     "output_type": "stream",
     "text": [
      "+--------+-------+-------------+---------------+------------+--------+\n",
      "|  Marque|NoLigne|Bonus / Malus|Rejets CO2 g/km|Cout energie|   Model|\n",
      "+--------+-------+-------------+---------------+------------+--------+\n",
      "|    AUDI|      2|      -6000.0|              0|       319.0|  E-TRON|\n",
      "|    AUDI|      3|      -6000.0|              0|       356.0|  E-TRON|\n",
      "|    AUDI|      4|      -6000.0|              0|       357.0|  E-TRON|\n",
      "|    AUDI|      5|      -6000.0|              0|       356.0|  E-TRON|\n",
      "|     BMW|      6|      -6000.0|              0|       204.0|      i3|\n",
      "|     BMW|      7|      -6000.0|              0|       204.0|     i3s|\n",
      "|  JAGUAR|     13|      -6000.0|              0|       271.0|  I-PACE|\n",
      "|     KIA|     14|      -6000.0|              0|       212.0|  e-NIRO|\n",
      "|     KIA|     15|      -6000.0|              0|       203.0|  e-NIRO|\n",
      "|     KIA|     16|      -6000.0|              0|       214.0|    SOUL|\n",
      "|     KIA|     17|      -6000.0|              0|       214.0|    SOUL|\n",
      "|MERCEDES|     18|      -6000.0|              0|       291.0|     EQC|\n",
      "|MERCEDES|     19|      -6000.0|              0|       411.0|    VITO|\n",
      "|MERCEDES|     20|      -6000.0|              0|       411.0|    VITO|\n",
      "|    MINI|     21|      -6000.0|              0|       199.0|    MINI|\n",
      "|  NISSAN|     23|      -6000.0|              0|       155.0|Nouvelle|\n",
      "|  NISSAN|     24|      -6000.0|              0|       177.0|Nouvelle|\n",
      "| PEUGEOT|     25|      -6000.0|              0|       221.0|     208|\n",
      "| PEUGEOT|     26|      -6000.0|              0|       241.0|     ION|\n",
      "| PEUGEOT|     27|      -6000.0|              0|       203.0| PARTNER|\n",
      "+--------+-------+-------------+---------------+------------+--------+\n",
      "only showing top 20 rows\n",
      "\n"
     ]
    },
    {
     "name": "stderr",
     "output_type": "stream",
     "text": [
      "24/05/28 10:08:42 WARN CSVHeaderChecker: CSV header does not conform to the schema.\n",
      " Header: , Marque / Modele, Bonus / Malus, Rejets CO2 g/km, Cout enerie\n",
      " Schema: NoLigne, Marque / Modele, Bonus / Malus, Rejets CO2 g/km, Cout energie\n",
      "Expected: NoLigne but found: \n",
      "CSV file: hdfs://localhost:9000/user/vagrant/tpa_13/CO2.csv\n"
     ]
    }
   ],
   "source": [
    "# we process Bonus / Malus and Cout energie to be able to perform operations as number\n",
    "# remove euro , + , white spaces \n",
    "processed_co2 = co2_df.withColumn('Bonus / Malus', regexp_replace(col('Bonus / Malus'), '€', '')) \\\n",
    "    .withColumn('Cout energie', regexp_replace(col('Cout energie'), '€', '')) \\\n",
    "    .withColumn('Bonus / Malus', regexp_replace(col('Bonus / Malus'), '\\\\+', '')) \\\n",
    "    .withColumn('Cout energie', regexp_replace(col('Cout energie'), '\\u00A0', '')) \\\n",
    "    .withColumn('Bonus / Malus', regexp_replace(col('Bonus / Malus'), '\\u00A0', ''))\n",
    "# we convert Bonus / Malus , Cout energie to float \n",
    "processed_co2 = processed_co2.withColumn('Bonus / Malus', processed_co2['Bonus / Malus'].cast('float')) \\\n",
    "    .withColumn('Cout energie', processed_co2['Cout energie'].cast('float'))\n",
    "processed_co2.show()"
   ]
  },
  {
   "cell_type": "code",
   "execution_count": 17,
   "id": "36aba43f-2c6e-4073-ae10-bb192f4adca8",
   "metadata": {},
   "outputs": [
    {
     "name": "stderr",
     "output_type": "stream",
     "text": [
      "24/05/28 10:08:49 WARN CSVHeaderChecker: CSV header does not conform to the schema.\n",
      " Header: Marque / Modele, Bonus / Malus, Rejets CO2 g/km, Cout enerie\n",
      " Schema: Marque / Modele, Bonus / Malus, Rejets CO2 g/km, Cout energie\n",
      "Expected: Cout energie but found: Cout enerie\n",
      "CSV file: hdfs://localhost:9000/user/vagrant/tpa_13/CO2.csv\n"
     ]
    },
    {
     "name": "stdout",
     "output_type": "stream",
     "text": [
      "+----------+-------------+---------------+------------+\n",
      "|    Marque|Bonus / Malus|Rejets CO2 g/km|Cout Energie|\n",
      "+----------+-------------+---------------+------------+\n",
      "|  MERCEDES|      8237.36|          196.1|      788.49|\n",
      "|     SKODA|      -6000.0|            0.0|       210.0|\n",
      "|    NISSAN|       5802.4|          160.0|       681.2|\n",
      "|      AUDI|      -6000.0|            0.0|       347.0|\n",
      "|      MINI|      -6000.0|            0.0|       199.0|\n",
      "|   PEUGEOT|      -6000.0|            0.0|      221.67|\n",
      "|    JAGUAR|      -6000.0|            0.0|       271.0|\n",
      "|       BMW|      -6000.0|            0.0|       204.0|\n",
      "|VOLKSWAGEN|      -6000.0|            0.0|       197.0|\n",
      "|       KIA|      -6000.0|            0.0|      210.75|\n",
      "|   RENAULT|      -6000.0|            0.0|       206.0|\n",
      "+----------+-------------+---------------+------------+\n",
      "\n"
     ]
    }
   ],
   "source": [
    "# We take the mean of Bonus / Malus , Regets CO2 , Cout Energie for each brand \n",
    "moyennes_par_marque = processed_co2.groupBy('Marque').agg(\n",
    "    round(avg('Bonus / Malus'), 2).alias('Bonus / Malus'),\n",
    "    round(avg('Rejets CO2 g/km'), 2).alias('Rejets CO2 g/km'),\n",
    "    round(avg('Cout Energie'), 2).alias('Cout Energie')\n",
    ")\n",
    "moyennes_par_marque.show()"
   ]
  },
  {
   "cell_type": "code",
   "execution_count": 18,
   "id": "e63ad14a-2437-4045-8054-4e9c0c0b16ab",
   "metadata": {},
   "outputs": [
    {
     "name": "stdout",
     "output_type": "stream",
     "text": [
      "+-------------------+------------------+--------------------+\n",
      "|Moyenne_Bonus_Malus|Moyenne_Rejets_CO2|Moyenne_Cout_Energie|\n",
      "+-------------------+------------------+--------------------+\n",
      "|            7109.77|            180.49|               744.2|\n",
      "+-------------------+------------------+--------------------+\n",
      "\n"
     ]
    },
    {
     "name": "stderr",
     "output_type": "stream",
     "text": [
      "24/05/28 10:09:02 WARN CSVHeaderChecker: CSV header does not conform to the schema.\n",
      " Header: Marque / Modele, Bonus / Malus, Rejets CO2 g/km, Cout enerie\n",
      " Schema: Marque / Modele, Bonus / Malus, Rejets CO2 g/km, Cout energie\n",
      "Expected: Cout energie but found: Cout enerie\n",
      "CSV file: hdfs://localhost:9000/user/vagrant/tpa_13/CO2.csv\n"
     ]
    }
   ],
   "source": [
    "# we take the mean of Bonus / Malus , Rehet CO2 and Cout Energie of all brand \n",
    "moyenne_toutes_marques_df = processed_co2.groupBy().agg(\n",
    "    round(avg(\"Bonus / Malus\"),2).alias(\"Moyenne_Bonus_Malus\"),\n",
    "    round(avg(\"Rejets CO2 g/km\"),2).alias(\"Moyenne_Rejets_CO2\"),\n",
    "    round(avg(\"Cout Energie\"),2).alias(\"Moyenne_Cout_Energie\")\n",
    ")\n",
    "moyenne_toutes_marques_df.show()"
   ]
  },
  {
   "cell_type": "code",
   "execution_count": 19,
   "id": "f24c6d75-f187-4732-b88e-94219a785487",
   "metadata": {},
   "outputs": [
    {
     "name": "stderr",
     "output_type": "stream",
     "text": [
      "24/05/28 10:09:07 WARN CSVHeaderChecker: CSV header does not conform to the schema.\n",
      " Header: Marque / Modele, Bonus / Malus, Rejets CO2 g/km, Cout enerie\n",
      " Schema: Marque / Modele, Bonus / Malus, Rejets CO2 g/km, Cout energie\n",
      "Expected: Cout energie but found: Cout enerie\n",
      "CSV file: hdfs://localhost:9000/user/vagrant/tpa_13/CO2.csv\n"
     ]
    },
    {
     "name": "stdout",
     "output_type": "stream",
     "text": [
      "+----------+--------------+---------+-----------+--------+--------+-------+--------+-----+-------------+---------------+------------+\n",
      "|    marque|           nom|puissance|   longueur|nbPlaces|nbPortes|couleur|occasion| prix|Bonus / Malus|Rejets CO2 g/km|Cout Energie|\n",
      "+----------+--------------+---------+-----------+--------+--------+-------+--------+-----+-------------+---------------+------------+\n",
      "|     Volvo|        S80 T6|      272|tr�s longue|       5|       5|  blanc|   false|50500|         NULL|           NULL|        NULL|\n",
      "|     Volvo|        S80 T6|      272|tr�s longue|       5|       5|   noir|   false|50500|         NULL|           NULL|        NULL|\n",
      "|     Volvo|        S80 T6|      272|tr�s longue|       5|       5|  rouge|   false|50500|         NULL|           NULL|        NULL|\n",
      "|     Volvo|        S80 T6|      272|tr�s longue|       5|       5|   gris|    true|35350|         NULL|           NULL|        NULL|\n",
      "|     Volvo|        S80 T6|      272|tr�s longue|       5|       5|   bleu|    true|35350|         NULL|           NULL|        NULL|\n",
      "|     Volvo|        S80 T6|      272|tr�s longue|       5|       5|   gris|   false|50500|         NULL|           NULL|        NULL|\n",
      "|     Volvo|        S80 T6|      272|tr�s longue|       5|       5|   bleu|   false|50500|         NULL|           NULL|        NULL|\n",
      "|     Volvo|        S80 T6|      272|tr�s longue|       5|       5|  rouge|    true|35350|         NULL|           NULL|        NULL|\n",
      "|     Volvo|        S80 T6|      272|tr�s longue|       5|       5|  blanc|    true|35350|         NULL|           NULL|        NULL|\n",
      "|     Volvo|        S80 T6|      272|tr�s longue|       5|       5|   noir|    true|35350|         NULL|           NULL|        NULL|\n",
      "|Volkswagen|Touran 2.0 FSI|      150|     longue|       7|       5|  rouge|   false|27340|      -6000.0|            0.0|       197.0|\n",
      "|Volkswagen|Touran 2.0 FSI|      150|     longue|       7|       5|   gris|    true|19138|      -6000.0|            0.0|       197.0|\n",
      "|Volkswagen|Touran 2.0 FSI|      150|     longue|       7|       5|   bleu|    true|19138|      -6000.0|            0.0|       197.0|\n",
      "|Volkswagen|Touran 2.0 FSI|      150|     longue|       7|       5|   gris|   false|27340|      -6000.0|            0.0|       197.0|\n",
      "|Volkswagen|Touran 2.0 FSI|      150|     longue|       7|       5|   bleu|   false|27340|      -6000.0|            0.0|       197.0|\n",
      "|Volkswagen|Touran 2.0 FSI|      150|     longue|       7|       5|  blanc|    true|19138|      -6000.0|            0.0|       197.0|\n",
      "|Volkswagen|Touran 2.0 FSI|      150|     longue|       7|       5|   noir|    true|19138|      -6000.0|            0.0|       197.0|\n",
      "|Volkswagen|Touran 2.0 FSI|      150|     longue|       7|       5|  rouge|    true|19138|      -6000.0|            0.0|       197.0|\n",
      "|Volkswagen|Touran 2.0 FSI|      150|     longue|       7|       5|  blanc|   false|27340|      -6000.0|            0.0|       197.0|\n",
      "|Volkswagen|Touran 2.0 FSI|      150|     longue|       7|       5|   noir|   false|27340|      -6000.0|            0.0|       197.0|\n",
      "+----------+--------------+---------+-----------+--------+--------+-------+--------+-----+-------------+---------------+------------+\n",
      "only showing top 20 rows\n",
      "\n"
     ]
    }
   ],
   "source": [
    "# we add column from bonus / malus , rejets co2 and cout energie into catalog\n",
    "# we leave values null for brandes that are not in co2 \n",
    "df_resultat = catalog_df.alias(\"catalogue\").join(\n",
    "    moyennes_par_marque.withColumnRenamed(\"Marque\", \"Marque_moyenne\").select(\"Marque_moyenne\", \"Bonus / Malus\", \"Rejets CO2 g/km\", \"Cout Energie\"),\n",
    "    (upper(col(\"catalogue.marque\")) == col(\"Marque_moyenne\")),\n",
    "    \"left_outer\"\n",
    ").drop(\"Marque_moyenne\")\n",
    "df_resultat.show()"
   ]
  },
  {
   "cell_type": "code",
   "execution_count": 20,
   "id": "f47a3bae-2422-4de2-a5e0-79084c08c333",
   "metadata": {},
   "outputs": [
    {
     "name": "stderr",
     "output_type": "stream",
     "text": [
      "24/05/28 10:09:08 WARN CSVHeaderChecker: CSV header does not conform to the schema.\n",
      " Header: Marque / Modele, Bonus / Malus, Rejets CO2 g/km, Cout enerie\n",
      " Schema: Marque / Modele, Bonus / Malus, Rejets CO2 g/km, Cout energie\n",
      "Expected: Cout energie but found: Cout enerie\n",
      "CSV file: hdfs://localhost:9000/user/vagrant/tpa_13/CO2.csv\n",
      "24/05/28 10:09:09 WARN CSVHeaderChecker: CSV header does not conform to the schema.\n",
      " Header: Marque / Modele, Bonus / Malus, Rejets CO2 g/km, Cout enerie\n",
      " Schema: Marque / Modele, Bonus / Malus, Rejets CO2 g/km, Cout energie\n",
      "Expected: Cout energie but found: Cout enerie\n",
      "CSV file: hdfs://localhost:9000/user/vagrant/tpa_13/CO2.csv\n"
     ]
    },
    {
     "name": "stdout",
     "output_type": "stream",
     "text": [
      "+----------+--------------+---------+-----------+--------+--------+-------+--------+-----+-------------+---------------+------------+\n",
      "|    marque|           nom|puissance|   longueur|nbPlaces|nbPortes|couleur|occasion| prix|Bonus / Malus|Rejets CO2 g/km|Cout Energie|\n",
      "+----------+--------------+---------+-----------+--------+--------+-------+--------+-----+-------------+---------------+------------+\n",
      "|     Volvo|        S80 T6|      272|tr�s longue|       5|       5|  blanc|   false|50500|      7109.77|         180.49|       744.2|\n",
      "|     Volvo|        S80 T6|      272|tr�s longue|       5|       5|   noir|   false|50500|      7109.77|         180.49|       744.2|\n",
      "|     Volvo|        S80 T6|      272|tr�s longue|       5|       5|  rouge|   false|50500|      7109.77|         180.49|       744.2|\n",
      "|     Volvo|        S80 T6|      272|tr�s longue|       5|       5|   gris|    true|35350|      7109.77|         180.49|       744.2|\n",
      "|     Volvo|        S80 T6|      272|tr�s longue|       5|       5|   bleu|    true|35350|      7109.77|         180.49|       744.2|\n",
      "|     Volvo|        S80 T6|      272|tr�s longue|       5|       5|   gris|   false|50500|      7109.77|         180.49|       744.2|\n",
      "|     Volvo|        S80 T6|      272|tr�s longue|       5|       5|   bleu|   false|50500|      7109.77|         180.49|       744.2|\n",
      "|     Volvo|        S80 T6|      272|tr�s longue|       5|       5|  rouge|    true|35350|      7109.77|         180.49|       744.2|\n",
      "|     Volvo|        S80 T6|      272|tr�s longue|       5|       5|  blanc|    true|35350|      7109.77|         180.49|       744.2|\n",
      "|     Volvo|        S80 T6|      272|tr�s longue|       5|       5|   noir|    true|35350|      7109.77|         180.49|       744.2|\n",
      "|Volkswagen|Touran 2.0 FSI|      150|     longue|       7|       5|  rouge|   false|27340|      -6000.0|            0.0|       197.0|\n",
      "|Volkswagen|Touran 2.0 FSI|      150|     longue|       7|       5|   gris|    true|19138|      -6000.0|            0.0|       197.0|\n",
      "|Volkswagen|Touran 2.0 FSI|      150|     longue|       7|       5|   bleu|    true|19138|      -6000.0|            0.0|       197.0|\n",
      "|Volkswagen|Touran 2.0 FSI|      150|     longue|       7|       5|   gris|   false|27340|      -6000.0|            0.0|       197.0|\n",
      "|Volkswagen|Touran 2.0 FSI|      150|     longue|       7|       5|   bleu|   false|27340|      -6000.0|            0.0|       197.0|\n",
      "|Volkswagen|Touran 2.0 FSI|      150|     longue|       7|       5|  blanc|    true|19138|      -6000.0|            0.0|       197.0|\n",
      "|Volkswagen|Touran 2.0 FSI|      150|     longue|       7|       5|   noir|    true|19138|      -6000.0|            0.0|       197.0|\n",
      "|Volkswagen|Touran 2.0 FSI|      150|     longue|       7|       5|  rouge|    true|19138|      -6000.0|            0.0|       197.0|\n",
      "|Volkswagen|Touran 2.0 FSI|      150|     longue|       7|       5|  blanc|   false|27340|      -6000.0|            0.0|       197.0|\n",
      "|Volkswagen|Touran 2.0 FSI|      150|     longue|       7|       5|   noir|   false|27340|      -6000.0|            0.0|       197.0|\n",
      "+----------+--------------+---------+-----------+--------+--------+-------+--------+-----+-------------+---------------+------------+\n",
      "only showing top 20 rows\n",
      "\n"
     ]
    }
   ],
   "source": [
    "moyenne_values = moyenne_toutes_marques_df.first()\n",
    "# we set the values missing brand in co2 to the mean of all brands\n",
    "updated_catalog_df = df_resultat.withColumn(\"Bonus / Malus\", coalesce(df_resultat[\"Bonus / Malus\"], lit(moyenne_values[\"Moyenne_Bonus_Malus\"]))) \\\n",
    "    .withColumn(\"Rejets CO2 g/km\", coalesce(df_resultat[\"Rejets CO2 g/km\"], lit(moyenne_values[\"Moyenne_Rejets_CO2\"]))) \\\n",
    "    .withColumn(\"Cout Energie\", coalesce(df_resultat[\"Cout Energie\"], lit(moyenne_values[\"Moyenne_Cout_Energie\"])))\n",
    "updated_catalog_df.show()"
   ]
  },
  {
   "cell_type": "code",
   "execution_count": 21,
   "id": "cb6bfea6-dda1-4119-8b2b-2dd563fe353e",
   "metadata": {},
   "outputs": [
    {
     "name": "stderr",
     "output_type": "stream",
     "text": [
      "24/05/28 10:09:54 WARN CSVHeaderChecker: CSV header does not conform to the schema.\n",
      " Header: Marque / Modele, Bonus / Malus, Rejets CO2 g/km, Cout enerie\n",
      " Schema: Marque / Modele, Bonus / Malus, Rejets CO2 g/km, Cout energie\n",
      "Expected: Cout energie but found: Cout enerie\n",
      "CSV file: hdfs://localhost:9000/user/vagrant/tpa_13/CO2.csv\n"
     ]
    }
   ],
   "source": [
    "updated_catalog_df.repartition(1).write.csv(\"tpa_13/transformed_catalog\" , mode=\"overwrite\" , header=True)"
   ]
  },
  {
   "cell_type": "code",
   "execution_count": 22,
   "id": "2f728413-36a9-44da-9cff-9e4e286f0ac7",
   "metadata": {},
   "outputs": [],
   "source": [
    "spark.stop()"
   ]
  },
  {
   "cell_type": "code",
   "execution_count": null,
   "id": "14b32931-63ed-4204-a794-b7a0697278fd",
   "metadata": {},
   "outputs": [],
   "source": []
  }
 ],
 "metadata": {
  "kernelspec": {
   "display_name": "Python 3 (ipykernel)",
   "language": "python",
   "name": "python3"
  },
  "language_info": {
   "codemirror_mode": {
    "name": "ipython",
    "version": 3
   },
   "file_extension": ".py",
   "mimetype": "text/x-python",
   "name": "python",
   "nbconvert_exporter": "python",
   "pygments_lexer": "ipython3",
   "version": "3.9.18"
  }
 },
 "nbformat": 4,
 "nbformat_minor": 5
}
