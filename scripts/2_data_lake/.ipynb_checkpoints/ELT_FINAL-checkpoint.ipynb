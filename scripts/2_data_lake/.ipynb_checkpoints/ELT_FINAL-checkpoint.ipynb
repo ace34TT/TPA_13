{
 "cells": [
  {
   "cell_type": "code",
   "execution_count": 1,
   "id": "982d8180-0b89-4a14-acda-e0705abcfe7e",
   "metadata": {},
   "outputs": [],
   "source": [
    "import pymongo\n",
    "import pandas as pd\n",
    "from pyhive import hive\n",
    "from urllib.parse import quote\n",
    "import urllib.parse"
   ]
  },
  {
   "cell_type": "code",
   "execution_count": 2,
   "id": "c41dce6b-1b84-47de-9c78-cac69fe1bea5",
   "metadata": {},
   "outputs": [],
   "source": [
    "client = pymongo.MongoClient(\"mongodb://localhost:27017/\")\n",
    "db = client[\"tpa_13\"] \n",
    "collection = db[\"clients\"]  \n",
    "\n",
    "cursor = collection.find({})"
   ]
  },
  {
   "cell_type": "code",
   "execution_count": 3,
   "id": "192b1587-593e-4696-8a2f-848ca3b0a42c",
   "metadata": {},
   "outputs": [],
   "source": [
    "df = pd.DataFrame(list(cursor))"
   ]
  },
  {
   "cell_type": "code",
   "execution_count": 4,
   "id": "ed2aca6e-8d39-428a-a279-07e913f955e8",
   "metadata": {},
   "outputs": [],
   "source": [
    "client.close()"
   ]
  },
  {
   "cell_type": "code",
   "execution_count": 5,
   "id": "c59d37ed-f34e-40b9-a553-7b59b8a2bee7",
   "metadata": {},
   "outputs": [
    {
     "name": "stdout",
     "output_type": "stream",
     "text": [
      "200000\n",
      "198793\n"
     ]
    }
   ],
   "source": [
    "# remove all lines with missing values \n",
    "print(df.shape[0])\n",
    "df.replace('', pd.NA, inplace=True) \n",
    "df.dropna(inplace=True)\n",
    "print(df.shape[0])"
   ]
  },
  {
   "cell_type": "code",
   "execution_count": 6,
   "id": "b6a835b4-98a0-4118-b95e-12e706f1e7ea",
   "metadata": {},
   "outputs": [
    {
     "name": "stdout",
     "output_type": "stream",
     "text": [
      "197641\n"
     ]
    }
   ],
   "source": [
    "df['age'] = pd.to_numeric(df['age'], errors='coerce')\n",
    "df['taux'] = pd.to_numeric(df['taux'], errors='coerce')\n",
    "df['nbEnfantsAcharge'] = pd.to_numeric(df['nbEnfantsAcharge'], errors='coerce')\n",
    "df = df[(df['age'] >= 0) & (df['taux'] >= 0) & (df['nbEnfantsAcharge'] >= 0)]\n",
    "print(df.shape[0])"
   ]
  },
  {
   "cell_type": "code",
   "execution_count": 7,
   "id": "092094f3-28d4-453b-a8ed-2457d71729d5",
   "metadata": {},
   "outputs": [
    {
     "name": "stdout",
     "output_type": "stream",
     "text": [
      "['F' 'M' 'N/D' 'Homme' 'Femme' 'Masculin' '?' 'Féminin']\n"
     ]
    }
   ],
   "source": [
    "gender_distinct_values = df['sexe'].unique()\n",
    "print(gender_distinct_values)"
   ]
  },
  {
   "cell_type": "code",
   "execution_count": 8,
   "id": "5ad18860-114f-4ad7-b474-bfdd5d797cda",
   "metadata": {},
   "outputs": [
    {
     "name": "stdout",
     "output_type": "stream",
     "text": [
      "sexe\n",
      "M           135040\n",
      "F            58203\n",
      "Masculin      1400\n",
      "Homme         1335\n",
      "Femme          639\n",
      "Féminin        626\n",
      "N/D            199\n",
      "?              199\n",
      "Name: count, dtype: int64\n"
     ]
    }
   ],
   "source": [
    "gender_counts = df['sexe'].value_counts()\n",
    "print(gender_counts)"
   ]
  },
  {
   "cell_type": "code",
   "execution_count": 9,
   "id": "107eb1bd-3065-45bc-b9e5-7f64b810073e",
   "metadata": {},
   "outputs": [
    {
     "name": "stdout",
     "output_type": "stream",
     "text": [
      "                             _id   age sexe    taux situationFamiliale  \\\n",
      "0       6656f934ea1e79805a2e6246  80.0    F   475.0          En Couple   \n",
      "1       6656f934ea1e79805a2e6247  56.0    M   400.0          En Couple   \n",
      "2       6656f934ea1e79805a2e6248  61.0    M   565.0          En Couple   \n",
      "3       6656f934ea1e79805a2e6249  79.0    M   535.0          En Couple   \n",
      "4       6656f934ea1e79805a2e624a  50.0    M  1263.0          En Couple   \n",
      "...                          ...   ...  ...     ...                ...   \n",
      "199995  6656f938ea1e79805a31704c  63.0    F  1327.0          En Couple   \n",
      "199996  6656f938ea1e79805a31704d  21.0    M  1105.0          En Couple   \n",
      "199997  6656f938ea1e79805a31704e  59.0    M   208.0        Célibataire   \n",
      "199998  6656f938ea1e79805a31704f  19.0    F   995.0          En Couple   \n",
      "199999  6656f938ea1e79805a317050  75.0    M   161.0          En Couple   \n",
      "\n",
      "        nbEnfantsAcharge 2eme voiture immatriculation  \n",
      "0                    4.0         true      3591 IK 12  \n",
      "1                    4.0        false       653 WI 87  \n",
      "2                    0.0         true      7787 NW 92  \n",
      "3                    0.0        false      6311 ZZ 15  \n",
      "4                    4.0        false      9631 HD 21  \n",
      "...                  ...          ...             ...  \n",
      "199995               1.0        false      9813 JM 16  \n",
      "199996               1.0        false       241 WM 57  \n",
      "199997               0.0        false       669 KP 41  \n",
      "199998               0.0        false      8537 LB 31  \n",
      "199999               0.0        false      3828 YT 59  \n",
      "\n",
      "[197243 rows x 8 columns]\n",
      "197243\n"
     ]
    }
   ],
   "source": [
    "filtered_df = df[~df['sexe'].isin(['N/D', '?']) & (df['sexe']!= '')]\n",
    "print(filtered_df)\n",
    "print(filtered_df.shape[0])"
   ]
  },
  {
   "cell_type": "code",
   "execution_count": 10,
   "id": "176dedf2-0fa9-43d5-88a8-699679a5b45a",
   "metadata": {},
   "outputs": [
    {
     "name": "stdout",
     "output_type": "stream",
     "text": [
      "['F' 'M' 'Homme' 'Femme' 'Masculin' 'Féminin']\n"
     ]
    }
   ],
   "source": [
    "distinct_values = filtered_df['sexe'].unique()\n",
    "print(distinct_values)"
   ]
  },
  {
   "cell_type": "code",
   "execution_count": 11,
   "id": "7ea35136-7cff-414a-a7aa-78b0d1c2ec1e",
   "metadata": {},
   "outputs": [
    {
     "name": "stdout",
     "output_type": "stream",
     "text": [
      "                             _id   age sexe    taux situationFamiliale  \\\n",
      "0       6656f934ea1e79805a2e6246  80.0    F   475.0          En Couple   \n",
      "1       6656f934ea1e79805a2e6247  56.0    H   400.0          En Couple   \n",
      "2       6656f934ea1e79805a2e6248  61.0    H   565.0          En Couple   \n",
      "3       6656f934ea1e79805a2e6249  79.0    H   535.0          En Couple   \n",
      "4       6656f934ea1e79805a2e624a  50.0    H  1263.0          En Couple   \n",
      "...                          ...   ...  ...     ...                ...   \n",
      "199995  6656f938ea1e79805a31704c  63.0    F  1327.0          En Couple   \n",
      "199996  6656f938ea1e79805a31704d  21.0    H  1105.0          En Couple   \n",
      "199997  6656f938ea1e79805a31704e  59.0    H   208.0        Célibataire   \n",
      "199998  6656f938ea1e79805a31704f  19.0    F   995.0          En Couple   \n",
      "199999  6656f938ea1e79805a317050  75.0    H   161.0          En Couple   \n",
      "\n",
      "        nbEnfantsAcharge 2eme voiture immatriculation  \n",
      "0                    4.0         true      3591 IK 12  \n",
      "1                    4.0        false       653 WI 87  \n",
      "2                    0.0         true      7787 NW 92  \n",
      "3                    0.0        false      6311 ZZ 15  \n",
      "4                    4.0        false      9631 HD 21  \n",
      "...                  ...          ...             ...  \n",
      "199995               1.0        false      9813 JM 16  \n",
      "199996               1.0        false       241 WM 57  \n",
      "199997               0.0        false       669 KP 41  \n",
      "199998               0.0        false      8537 LB 31  \n",
      "199999               0.0        false      3828 YT 59  \n",
      "\n",
      "[197243 rows x 8 columns]\n"
     ]
    }
   ],
   "source": [
    "mapping_gender = {\n",
    "    'F': 'F',\n",
    "    'M': 'H',\n",
    "    'Homme': 'H',\n",
    "    'Femme': 'F',\n",
    "    'Masculin': 'H',\n",
    "    'Féminin': 'F'\n",
    "}\n",
    "filtered_df.loc[:, 'sexe'] = filtered_df['sexe'].map(mapping_gender)\n",
    "print(filtered_df)"
   ]
  },
  {
   "cell_type": "code",
   "execution_count": 12,
   "id": "82131c44-18bb-4c17-ba1e-50533c2c7164",
   "metadata": {},
   "outputs": [
    {
     "name": "stdout",
     "output_type": "stream",
     "text": [
      "197243\n"
     ]
    }
   ],
   "source": [
    "print(filtered_df.shape[0])"
   ]
  },
  {
   "cell_type": "code",
   "execution_count": 13,
   "id": "d5af72ad-98ec-4470-bf84-0e57266afb50",
   "metadata": {},
   "outputs": [
    {
     "name": "stdout",
     "output_type": "stream",
     "text": [
      "situationFamiliale\n",
      "En Couple      126534\n",
      "Célibataire     58644\n",
      "Seule            9662\n",
      "Marié(e)         1307\n",
      "Seul              598\n",
      "?                 202\n",
      "N/D               186\n",
      "Divorcée          110\n",
      "Name: count, dtype: int64\n"
     ]
    }
   ],
   "source": [
    "ms_counts = filtered_df['situationFamiliale'].value_counts()\n",
    "print(ms_counts)"
   ]
  },
  {
   "cell_type": "code",
   "execution_count": 14,
   "id": "f198150c-01f1-4e85-a812-d90035058499",
   "metadata": {},
   "outputs": [
    {
     "name": "stdout",
     "output_type": "stream",
     "text": [
      "['En Couple' 'Célibataire' 'Seule' 'Marié(e)' '?' 'N/D' 'Seul' 'Divorcée']\n"
     ]
    }
   ],
   "source": [
    "marital_status_distinct_values = filtered_df['situationFamiliale'].unique()\n",
    "print(marital_status_distinct_values)"
   ]
  },
  {
   "cell_type": "code",
   "execution_count": 15,
   "id": "d8a6f24f-b4e6-4d5d-8e25-50c52221773a",
   "metadata": {},
   "outputs": [],
   "source": [
    "filtered_df_ = filtered_df[~filtered_df['situationFamiliale'].isin(['N/D', '?']) & (filtered_df['situationFamiliale']!= '')]"
   ]
  },
  {
   "cell_type": "code",
   "execution_count": 16,
   "id": "a3b8e7ba-c376-4b1e-942a-dc4e467cf65b",
   "metadata": {},
   "outputs": [
    {
     "name": "stdout",
     "output_type": "stream",
     "text": [
      "situationFamiliale\n",
      "En Couple      126534\n",
      "Célibataire     58644\n",
      "Seule            9662\n",
      "Marié(e)         1307\n",
      "Seul              598\n",
      "Divorcée          110\n",
      "Name: count, dtype: int64\n"
     ]
    }
   ],
   "source": [
    "ms_counts = filtered_df_['situationFamiliale'].value_counts()\n",
    "print(ms_counts)"
   ]
  },
  {
   "cell_type": "code",
   "execution_count": 17,
   "id": "94fb4f5e-bd11-4caf-b282-97d030f7d351",
   "metadata": {},
   "outputs": [
    {
     "name": "stdout",
     "output_type": "stream",
     "text": [
      "                    sum_nbEnfantsAcharge  count_situationFamiliale\n",
      "situationFamiliale                                                \n",
      "Célibataire                          0.0                     58644\n",
      "Divorcée                           209.0                       110\n",
      "En Couple                       223834.0                    126534\n",
      "Marié(e)                          2333.0                      1307\n",
      "Seul                                 0.0                       598\n",
      "Seule                            19408.0                      9662\n"
     ]
    }
   ],
   "source": [
    "filtered_df_copy = filtered_df_.copy()\n",
    "r_nb_enfants = filtered_df_copy.groupby('situationFamiliale').agg({'nbEnfantsAcharge': 'sum', 'situationFamiliale': 'count'})\n",
    "r_nb_enfants.rename(columns={'nbEnfantsAcharge': 'sum_nbEnfantsAcharge', 'situationFamiliale': 'count_situationFamiliale'}, inplace=True)\n",
    "print(r_nb_enfants)"
   ]
  },
  {
   "cell_type": "code",
   "execution_count": 18,
   "id": "2c61dccb-89ce-4468-987e-a641857c85e6",
   "metadata": {},
   "outputs": [
    {
     "name": "stdout",
     "output_type": "stream",
     "text": [
      "nbEnfantsAcharge\n",
      "3.0    3251\n",
      "2.0    3244\n",
      "1.0    3167\n",
      "Name: count, dtype: int64\n"
     ]
    }
   ],
   "source": [
    "seul_df = filtered_df_copy[filtered_df_copy['situationFamiliale'] == 'Seule']\n",
    "sum_distinct_nb_enfants_seul = seul_df['nbEnfantsAcharge'].value_counts()\n",
    "print(sum_distinct_nb_enfants_seul)"
   ]
  },
  {
   "cell_type": "code",
   "execution_count": 19,
   "id": "8da363a5-5cf0-4afa-bf6c-dbcf22c3bb10",
   "metadata": {},
   "outputs": [
    {
     "name": "stdout",
     "output_type": "stream",
     "text": [
      "                             _id   age sexe    taux situationFamiliale  \\\n",
      "0       6656f934ea1e79805a2e6246  80.0    F   475.0          En Couple   \n",
      "1       6656f934ea1e79805a2e6247  56.0    H   400.0          En Couple   \n",
      "2       6656f934ea1e79805a2e6248  61.0    H   565.0          En Couple   \n",
      "3       6656f934ea1e79805a2e6249  79.0    H   535.0          En Couple   \n",
      "4       6656f934ea1e79805a2e624a  50.0    H  1263.0          En Couple   \n",
      "...                          ...   ...  ...     ...                ...   \n",
      "199995  6656f938ea1e79805a31704c  63.0    F  1327.0          En Couple   \n",
      "199996  6656f938ea1e79805a31704d  21.0    H  1105.0          En Couple   \n",
      "199997  6656f938ea1e79805a31704e  59.0    H   208.0        Celibataire   \n",
      "199998  6656f938ea1e79805a31704f  19.0    F   995.0          En Couple   \n",
      "199999  6656f938ea1e79805a317050  75.0    H   161.0          En Couple   \n",
      "\n",
      "        nbEnfantsAcharge 2eme voiture immatriculation  \n",
      "0                    4.0         true      3591 IK 12  \n",
      "1                    4.0        false       653 WI 87  \n",
      "2                    0.0         true      7787 NW 92  \n",
      "3                    0.0        false      6311 ZZ 15  \n",
      "4                    4.0        false      9631 HD 21  \n",
      "...                  ...          ...             ...  \n",
      "199995               1.0        false      9813 JM 16  \n",
      "199996               1.0        false       241 WM 57  \n",
      "199997               0.0        false       669 KP 41  \n",
      "199998               0.0        false      8537 LB 31  \n",
      "199999               0.0        false      3828 YT 59  \n",
      "\n",
      "[196855 rows x 8 columns]\n"
     ]
    }
   ],
   "source": [
    "mapping_marital_status = {\n",
    "    'En Couple': 'En Couple',\n",
    "    'Célibataire': 'Celibataire',\n",
    "    'Seule': 'Seul(e)',\n",
    "    'Marié(e)': 'En Couple',\n",
    "    'Seul': 'Seul(e)',\n",
    "    'Divorcée': 'Divorce(e)'\n",
    "}\n",
    "filtered_df__ = filtered_df_\n",
    "filtered_df__.loc[:, 'situationFamiliale'] = filtered_df__['situationFamiliale'].map(mapping_marital_status)\n",
    "print(filtered_df__)"
   ]
  },
  {
   "cell_type": "code",
   "execution_count": 20,
   "id": "81739b20-887e-4d03-928c-259d71c1fdd5",
   "metadata": {},
   "outputs": [
    {
     "name": "stdout",
     "output_type": "stream",
     "text": [
      "['En Couple' 'Celibataire' 'Seul(e)' 'Divorce(e)']\n"
     ]
    }
   ],
   "source": [
    "d = filtered_df__[\"situationFamiliale\"].unique()\n",
    "print(d)"
   ]
  },
  {
   "cell_type": "code",
   "execution_count": 21,
   "id": "50264e2b-ff2f-4114-a2af-b00a8fde5874",
   "metadata": {},
   "outputs": [
    {
     "name": "stdout",
     "output_type": "stream",
     "text": [
      "2eme voiture\n",
      "false    171096\n",
      "true      25557\n",
      "?           202\n",
      "Name: count, dtype: int64\n"
     ]
    }
   ],
   "source": [
    "_2nd_car_counts = filtered_df__['2eme voiture'].value_counts()\n",
    "print(_2nd_car_counts)"
   ]
  },
  {
   "cell_type": "code",
   "execution_count": 22,
   "id": "e794c7fb-eaa7-4ced-a7d5-9900e1df5c31",
   "metadata": {},
   "outputs": [],
   "source": [
    "filtered_df___ = filtered_df__[~filtered_df__['2eme voiture'].isin(['?']) & (filtered_df__['2eme voiture']!= '')]"
   ]
  },
  {
   "cell_type": "code",
   "execution_count": 23,
   "id": "8fd2d3c2-f736-42de-a751-b0057217a73b",
   "metadata": {},
   "outputs": [
    {
     "name": "stdout",
     "output_type": "stream",
     "text": [
      "2eme voiture\n",
      "false    171096\n",
      "true      25557\n",
      "Name: count, dtype: int64\n"
     ]
    }
   ],
   "source": [
    "_2nd_car_counts = filtered_df___['2eme voiture'].value_counts()\n",
    "print(_2nd_car_counts)"
   ]
  },
  {
   "cell_type": "code",
   "execution_count": 25,
   "id": "c3c91c4c-d137-4124-8d63-a33bb93f62b4",
   "metadata": {},
   "outputs": [],
   "source": [
    "# Establish a connection to Hive\n",
    "conn = hive.Connection(host=\"localhost\", port=10000, username='vagrant' , database = \"tpa_13\")\n",
    "\n",
    "# Create a cursor object\n",
    "cursor = conn.cursor()"
   ]
  },
  {
   "cell_type": "code",
   "execution_count": 31,
   "id": "30c790d6-320d-4388-a1c5-e33108e40f5f",
   "metadata": {},
   "outputs": [],
   "source": [
    "drop_table_sql = \"DROP TABLE IF EXISTS clients\"\n",
    "\n",
    "create_table_sql = \"\"\"\n",
    "CREATE TABLE IF NOT EXISTS clients (\n",
    "    age INT,\n",
    "    sexe STRING,\n",
    "    taux DOUBLE,\n",
    "    situationFamiliale STRING,\n",
    "    nbEnfantsAcharge INT,\n",
    "    deuxiemeVoiture STRING,\n",
    "    immatriculation STRING\n",
    ")\n",
    "ROW FORMAT DELIMITED\n",
    "FIELDS TERMINATED BY ','\n",
    "LINES TERMINATED BY '\\n'\n",
    "STORED AS TEXTFILE\n",
    "\"\"\"\n",
    "\n",
    "insert_query = f\"INSERT INTO clients (age, sexe, taux, situationFamiliale, nbEnfantsAcharge, deuxiemeVoiture, immatriculation) VALUES (?, ?, ?, ?, ?, ?, ?)\"\n",
    "\n"
   ]
  },
  {
   "cell_type": "code",
   "execution_count": 32,
   "id": "1cf9965f-efc1-418b-b90b-fe57174a22e5",
   "metadata": {},
   "outputs": [],
   "source": [
    "# Execute the drop table command\n",
    "cursor.execute(drop_table_sql)\n",
    "\n",
    "# Execute the create table command\n",
    "cursor.execute(create_table_sql)"
   ]
  },
  {
   "cell_type": "code",
   "execution_count": 33,
   "id": "8f3d9b5a-b435-4b88-a34c-74bfd1c3c4b1",
   "metadata": {},
   "outputs": [
    {
     "name": "stdout",
     "output_type": "stream",
     "text": [
      "age                   float64\n",
      "sexe                   object\n",
      "taux                  float64\n",
      "situationFamiliale     object\n",
      "nbEnfantsAcharge      float64\n",
      "deuxiemeVoiture        object\n",
      "immatriculation        object\n",
      "dtype: object\n"
     ]
    }
   ],
   "source": [
    "if '_id' in filtered_df___.columns:\n",
    "    filtered_df___ = filtered_df___.drop('_id', axis=1)\n",
    "if \"2eme voiture\" in filtered_df___.columns:\n",
    "    filtered_df___.rename(columns={'2eme voiture': 'deuxiemeVoiture'}, inplace=True)\n",
    "print(filtered_df___.dtypes)"
   ]
  },
  {
   "cell_type": "code",
   "execution_count": 34,
   "id": "d09a20d0-3929-476d-be1c-35915e2ffbfb",
   "metadata": {},
   "outputs": [],
   "source": [
    "filtered_df___.to_csv('/vagrant/TPA_13/data/processed_clients.csv', index=False, mode='w')"
   ]
  },
  {
   "cell_type": "code",
   "execution_count": 36,
   "id": "82488afd-28d0-4957-9f48-dea4e14a0f10",
   "metadata": {},
   "outputs": [],
   "source": [
    "load_data_query = \"\"\"\n",
    "LOAD DATA LOCAL INPATH '/vagrant/TPA_13/data/processed_clients.csv' INTO TABLE `clients`\n",
    "\"\"\"\n",
    "\n",
    "# Execute the command\n",
    "cursor.execute(load_data_query)"
   ]
  },
  {
   "cell_type": "code",
   "execution_count": 37,
   "id": "3b776853-fb66-4d6e-b331-3fdc432db717",
   "metadata": {},
   "outputs": [],
   "source": [
    "# batch_size = 500\n",
    "\n",
    "# for i in range(0, len(filtered_df___), batch_size):\n",
    "#    batch_df = filtered_df___.iloc[i:i+batch_size]\n",
    "#    values = ','.join(['({})'.format(','.join([\"'{}'\".format(str(val)) for val in row])) for row in batch_df.values])\n",
    "#    cursor.execute(\"\"\"\n",
    "#        INSERT INTO clients (age, sexe, taux, situationFamiliale, nbEnfantsAcharge, deuxiemeVoiture, immatriculation)\n",
    "#        VALUES {}\n",
    "#    \"\"\".format(values))\n",
    "#    print(i)"
   ]
  },
  {
   "cell_type": "code",
   "execution_count": 38,
   "id": "183f6419-4577-4b23-9c75-c5dc2d051a60",
   "metadata": {},
   "outputs": [],
   "source": [
    "# Commit the transaction\n",
    "conn.commit()\n",
    "\n",
    "# Close cursor and connection\n",
    "cursor.close()\n",
    "conn.close()"
   ]
  }
 ],
 "metadata": {
  "kernelspec": {
   "display_name": "Python 3 (ipykernel)",
   "language": "python",
   "name": "python3"
  },
  "language_info": {
   "codemirror_mode": {
    "name": "ipython",
    "version": 3
   },
   "file_extension": ".py",
   "mimetype": "text/x-python",
   "name": "python",
   "nbconvert_exporter": "python",
   "pygments_lexer": "ipython3",
   "version": "3.9.18"
  }
 },
 "nbformat": 4,
 "nbformat_minor": 5
}
